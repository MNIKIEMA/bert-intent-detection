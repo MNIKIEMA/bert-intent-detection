{
 "cells": [
  {
   "attachments": {},
   "cell_type": "markdown",
   "metadata": {},
   "source": [
    "# Import\n"
   ]
  },
  {
   "cell_type": "code",
   "execution_count": 1,
   "metadata": {},
   "outputs": [],
   "source": [
    "from pathlib import Path\n",
    "import torch\n",
    "import pandas as pd\n",
    "import matplotlib.pyplot as plt\n",
    "from transformers import BertTokenizer\n",
    "import numpy as np"
   ]
  },
  {
   "cell_type": "code",
   "execution_count": 2,
   "metadata": {},
   "outputs": [],
   "source": [
    "def parse_line(line):\n",
    "    utterance_data, intent_label = line.split(\" <=> \")\n",
    "    items = utterance_data.split()\n",
    "    words = [item.rsplit(\":\", 1)[0] for item in items]\n",
    "    word_labels = [item.rsplit(\":\", 1)[1]for item in items]\n",
    "    return {\n",
    "        \"intent_label\": intent_label,\n",
    "        \"words\": \" \".join(words),\n",
    "        \"word_labels\": \" \".join(word_labels),\n",
    "        \"length\": len(words),\n",
    "    }"
   ]
  },
  {
   "cell_type": "code",
   "execution_count": 3,
   "metadata": {},
   "outputs": [
    {
     "data": {
      "text/plain": [
       "['Add:O Don:B-entity_name and:I-entity_name Sherri:I-entity_name to:O my:B-playlist_owner Meditate:B-playlist to:I-playlist Sounds:I-playlist of:I-playlist Nature:I-playlist playlist:O <=> AddToPlaylist',\n",
       " 'put:O United:B-entity_name Abominations:I-entity_name onto:O my:B-playlist_owner rare:B-playlist groove:I-playlist playlist:O <=> AddToPlaylist',\n",
       " 'add:O the:O tune:B-music_item by:O misato:B-artist watanabe:I-artist to:O the:O Trapeo:B-playlist playlist:O <=> AddToPlaylist',\n",
       " 'add:O this:O artist:B-music_item to:O my:B-playlist_owner this:B-playlist is:I-playlist miguel:I-playlist bosé:I-playlist playlist:O <=> AddToPlaylist',\n",
       " 'add:O heresy:B-entity_name and:I-entity_name the:I-entity_name hotel:I-entity_name choir:I-entity_name to:O the:O evening:B-playlist acoustic:I-playlist playlist:O <=> AddToPlaylist']"
      ]
     },
     "execution_count": 3,
     "metadata": {},
     "output_type": "execute_result"
    }
   ],
   "source": [
    "lines_train = Path(\"snips-data/train\").read_text(\"utf-8\").strip().splitlines()\n",
    "lines_train[:5]"
   ]
  },
  {
   "attachments": {},
   "cell_type": "markdown",
   "metadata": {},
   "source": [
    "- Intent is at the end of line, separated with <=>\n",
    "- Word tagged with **O** means outside of entity\n",
    "- Word tagged with **B** means begining of an entity\n",
    "- **I** mean inside an entity"
   ]
  },
  {
   "cell_type": "code",
   "execution_count": 4,
   "metadata": {},
   "outputs": [
    {
     "data": {
      "text/plain": [
       "{'intent_label': 'AddToPlaylist',\n",
       " 'words': 'Add Don and Sherri to my Meditate to Sounds of Nature playlist',\n",
       " 'word_labels': 'O B-entity_name I-entity_name I-entity_name O B-playlist_owner B-playlist I-playlist I-playlist I-playlist I-playlist O',\n",
       " 'length': 12}"
      ]
     },
     "execution_count": 4,
     "metadata": {},
     "output_type": "execute_result"
    }
   ],
   "source": [
    "parse_line(lines_train[0])"
   ]
  },
  {
   "cell_type": "code",
   "execution_count": 5,
   "metadata": {},
   "outputs": [
    {
     "data": {
      "text/plain": [
       "'Add:O Don:B-entity_name and:I-entity_name Sherri:I-entity_name to:O my:B-playlist_owner Meditate:B-playlist to:I-playlist Sounds:I-playlist of:I-playlist Nature:I-playlist playlist:O <=> AddToPlaylist'"
      ]
     },
     "execution_count": 5,
     "metadata": {},
     "output_type": "execute_result"
    }
   ],
   "source": [
    "lines_train[0]"
   ]
  },
  {
   "cell_type": "code",
   "execution_count": 6,
   "metadata": {},
   "outputs": [
    {
     "data": {
      "text/html": [
       "<div>\n",
       "<style scoped>\n",
       "    .dataframe tbody tr th:only-of-type {\n",
       "        vertical-align: middle;\n",
       "    }\n",
       "\n",
       "    .dataframe tbody tr th {\n",
       "        vertical-align: top;\n",
       "    }\n",
       "\n",
       "    .dataframe thead th {\n",
       "        text-align: right;\n",
       "    }\n",
       "</style>\n",
       "<table border=\"1\" class=\"dataframe\">\n",
       "  <thead>\n",
       "    <tr style=\"text-align: right;\">\n",
       "      <th></th>\n",
       "      <th>intent_label</th>\n",
       "      <th>words</th>\n",
       "      <th>word_labels</th>\n",
       "      <th>length</th>\n",
       "    </tr>\n",
       "  </thead>\n",
       "  <tbody>\n",
       "    <tr>\n",
       "      <th>0</th>\n",
       "      <td>AddToPlaylist</td>\n",
       "      <td>Add Don and Sherri to my Meditate to Sounds of...</td>\n",
       "      <td>O B-entity_name I-entity_name I-entity_name O ...</td>\n",
       "      <td>12</td>\n",
       "    </tr>\n",
       "    <tr>\n",
       "      <th>1</th>\n",
       "      <td>AddToPlaylist</td>\n",
       "      <td>put United Abominations onto my rare groove pl...</td>\n",
       "      <td>O B-entity_name I-entity_name O B-playlist_own...</td>\n",
       "      <td>8</td>\n",
       "    </tr>\n",
       "    <tr>\n",
       "      <th>2</th>\n",
       "      <td>AddToPlaylist</td>\n",
       "      <td>add the tune by misato watanabe to the Trapeo ...</td>\n",
       "      <td>O O B-music_item O B-artist I-artist O O B-pla...</td>\n",
       "      <td>10</td>\n",
       "    </tr>\n",
       "    <tr>\n",
       "      <th>3</th>\n",
       "      <td>AddToPlaylist</td>\n",
       "      <td>add this artist to my this is miguel bosé play...</td>\n",
       "      <td>O O B-music_item O B-playlist_owner B-playlist...</td>\n",
       "      <td>10</td>\n",
       "    </tr>\n",
       "    <tr>\n",
       "      <th>4</th>\n",
       "      <td>AddToPlaylist</td>\n",
       "      <td>add heresy and the hotel choir to the evening ...</td>\n",
       "      <td>O B-entity_name I-entity_name I-entity_name I-...</td>\n",
       "      <td>11</td>\n",
       "    </tr>\n",
       "  </tbody>\n",
       "</table>\n",
       "</div>"
      ],
      "text/plain": [
       "    intent_label                                              words   \n",
       "0  AddToPlaylist  Add Don and Sherri to my Meditate to Sounds of...  \\\n",
       "1  AddToPlaylist  put United Abominations onto my rare groove pl...   \n",
       "2  AddToPlaylist  add the tune by misato watanabe to the Trapeo ...   \n",
       "3  AddToPlaylist  add this artist to my this is miguel bosé play...   \n",
       "4  AddToPlaylist  add heresy and the hotel choir to the evening ...   \n",
       "\n",
       "                                         word_labels  length  \n",
       "0  O B-entity_name I-entity_name I-entity_name O ...      12  \n",
       "1  O B-entity_name I-entity_name O B-playlist_own...       8  \n",
       "2  O O B-music_item O B-artist I-artist O O B-pla...      10  \n",
       "3  O O B-music_item O B-playlist_owner B-playlist...      10  \n",
       "4  O B-entity_name I-entity_name I-entity_name I-...      11  "
      ]
     },
     "execution_count": 6,
     "metadata": {},
     "output_type": "execute_result"
    }
   ],
   "source": [
    "parsed = [parse_line(line) for line in lines_train]\n",
    "\n",
    "df_train = pd.DataFrame([p for p in parsed if p is not None])\n",
    "df_train.head()"
   ]
  },
  {
   "cell_type": "code",
   "execution_count": 7,
   "metadata": {},
   "outputs": [
    {
     "data": {
      "image/png": "[encoded data removed]",
      "text/plain": [
       "<Figure size 640x480 with 1 Axes>"
      ]
     },
     "metadata": {},
     "output_type": "display_data"
    }
   ],
   "source": [
    "df_train.hist(\"length\", bins=30);"
   ]
  },
  {
   "attachments": {},
   "cell_type": "markdown",
   "metadata": {},
   "source": [
    "## Tokenize with Bertokiner from HuggingFace"
   ]
  },
  {
   "cell_type": "code",
   "execution_count": 8,
   "metadata": {},
   "outputs": [],
   "source": [
    "model_name = \"bert-base-cased\"\n",
    "tokenizer = BertTokenizer.from_pretrained(model_name)"
   ]
  },
  {
   "cell_type": "code",
   "execution_count": 9,
   "metadata": {},
   "outputs": [],
   "source": [
    "lines_valid = Path(\"snips-data/valid\").read_text(\"utf-8\").strip().splitlines()\n",
    "lines_test = Path(\"snips-data/test\").read_text(\"utf-8\").strip().splitlines()\n",
    "\n",
    "df_valid = pd.DataFrame([parse_line(line) for line in lines_valid])\n",
    "df_test = pd.DataFrame([parse_line(line) for line in lines_test])"
   ]
  },
  {
   "cell_type": "code",
   "execution_count": 10,
   "metadata": {},
   "outputs": [
    {
     "data": {
      "text/plain": [
       "'Add Don and Sherri to my Meditate to Sounds of Nature playlist'"
      ]
     },
     "execution_count": 10,
     "metadata": {},
     "output_type": "execute_result"
    }
   ],
   "source": [
    "first_sentence = df_train.iloc[0][\"words\"]\n",
    "first_sentence"
   ]
  },
  {
   "cell_type": "code",
   "execution_count": 11,
   "metadata": {},
   "outputs": [
    {
     "data": {
      "text/plain": [
       "['Ad',\n",
       " '##d',\n",
       " 'Don',\n",
       " 'and',\n",
       " 'She',\n",
       " '##rri',\n",
       " 'to',\n",
       " 'my',\n",
       " 'Me',\n",
       " '##dit',\n",
       " '##ate',\n",
       " 'to',\n",
       " 'Sounds',\n",
       " 'of',\n",
       " 'Nature',\n",
       " 'play',\n",
       " '##list']"
      ]
     },
     "execution_count": 11,
     "metadata": {},
     "output_type": "execute_result"
    }
   ],
   "source": [
    "tokenizer.tokenize(first_sentence)"
   ]
  },
  {
   "cell_type": "code",
   "execution_count": 12,
   "metadata": {},
   "outputs": [
    {
     "data": {
      "image/png": "[encoded data removed]",
      "text/plain": [
       "<Figure size 640x480 with 1 Axes>"
      ]
     },
     "metadata": {},
     "output_type": "display_data"
    }
   ],
   "source": [
    "train_sequence_lengths = [len(tokenizer.encode(text))\n",
    "                          for text in df_train[\"words\"]]\n",
    "plt.hist(train_sequence_lengths, bins=30)\n",
    "plt.title(f\"max sequence length: {max(train_sequence_lengths)}\");"
   ]
  },
  {
   "cell_type": "code",
   "execution_count": 13,
   "metadata": {},
   "outputs": [],
   "source": [
    "def encode_dataset(tokenizer, text_sequences, max_length):\n",
    "    token_ids = np.zeros(shape=(len(text_sequences), max_length),\n",
    "                         dtype=np.int32)\n",
    "    for i, text_sequence in enumerate(text_sequences):\n",
    "        encoded = tokenizer.encode(text_sequence)\n",
    "        token_ids[i, 0:len(encoded)] = encoded\n",
    "    attention_masks = (token_ids != 0).astype(np.int32)\n",
    "    return {\"input_ids\":torch.from_numpy(token_ids), \n",
    "            \"attention_mask\": torch.from_numpy(attention_masks)}"
   ]
  },
  {
   "cell_type": "code",
   "execution_count": 14,
   "metadata": {},
   "outputs": [
    {
     "data": {
      "text/plain": [
       "tensor([[  101, 24930,  1181,  ...,     0,     0,     0],\n",
       "        [  101,  1508,  1244,  ...,     0,     0,     0],\n",
       "        [  101,  5194,  1103,  ...,     0,     0,     0],\n",
       "        ...,\n",
       "        [  101, 27640,  1116,  ...,     0,     0,     0],\n",
       "        [  101,  5979,  6608,  ...,     0,     0,     0],\n",
       "        [  101,  1327,  2523,  ...,     0,     0,     0]], dtype=torch.int32)"
      ]
     },
     "execution_count": 14,
     "metadata": {},
     "output_type": "execute_result"
    }
   ],
   "source": [
    "encoded_train = encode_dataset(tokenizer, df_train[\"words\"], 45)\n",
    "encoded_train[\"input_ids\"]"
   ]
  },
  {
   "cell_type": "code",
   "execution_count": 15,
   "metadata": {},
   "outputs": [
    {
     "data": {
      "text/plain": [
       "torch.Size([13084, 45])"
      ]
     },
     "execution_count": 15,
     "metadata": {},
     "output_type": "execute_result"
    }
   ],
   "source": [
    "encoded_train[\"input_ids\"].shape"
   ]
  },
  {
   "cell_type": "code",
   "execution_count": 16,
   "metadata": {},
   "outputs": [
    {
     "data": {
      "text/plain": [
       "torch.Size([13084, 45])"
      ]
     },
     "execution_count": 16,
     "metadata": {},
     "output_type": "execute_result"
    }
   ],
   "source": [
    "encoded_train[\"attention_mask\"].shape"
   ]
  },
  {
   "cell_type": "code",
   "execution_count": 17,
   "metadata": {},
   "outputs": [],
   "source": [
    "encoded_valid = encode_dataset(tokenizer, df_valid[\"words\"], 45)\n",
    "encoded_test = encode_dataset(tokenizer, df_test[\"words\"], 45)"
   ]
  },
  {
   "attachments": {},
   "cell_type": "markdown",
   "metadata": {},
   "source": [
    "## Encoding the Sequence Classification Targets"
   ]
  },
  {
   "cell_type": "code",
   "execution_count": 18,
   "metadata": {},
   "outputs": [
    {
     "data": {
      "text/plain": [
       "{'AddToPlaylist': 0,\n",
       " 'BookRestaurant': 1,\n",
       " 'GetWeather': 2,\n",
       " 'PlayMusic': 3,\n",
       " 'RateBook': 4,\n",
       " 'SearchCreativeWork': 5,\n",
       " 'SearchScreeningEvent': 6}"
      ]
     },
     "execution_count": 18,
     "metadata": {},
     "output_type": "execute_result"
    }
   ],
   "source": [
    "intent_names = Path(\"snips-data/vocab.intent\").read_text(\"utf-8\").split()\n",
    "intent_map = dict((label, idx) for idx, label in enumerate(intent_names))\n",
    "intent_map"
   ]
  },
  {
   "cell_type": "code",
   "execution_count": 19,
   "metadata": {},
   "outputs": [],
   "source": [
    "intent_train = df_train[\"intent_label\"].map(intent_map).values"
   ]
  },
  {
   "cell_type": "code",
   "execution_count": 20,
   "metadata": {},
   "outputs": [],
   "source": [
    "intent_valid = df_valid[\"intent_label\"].map(intent_map).values\n",
    "intent_test = df_test[\"intent_label\"].map(intent_map).values"
   ]
  },
  {
   "cell_type": "code",
   "execution_count": 21,
   "metadata": {},
   "outputs": [],
   "source": [
    "import torch.nn as nn\n",
    "from transformers import AutoModel\n",
    "\n",
    "class IntentClassificationModel(nn.Module):\n",
    "    \n",
    "    def __init__(self, intent_num_labels=None, model_name=\"bert-base-cased\", dropout_prob=0.1):\n",
    "        super().__init__()\n",
    "        self.bert = AutoModel.from_pretrained(model_name)\n",
    "        self.dropout = nn.Dropout(dropout_prob)\n",
    "\n",
    "        # Use the default linear activation (no softmax) to compute logits.\n",
    "        # The softmax normalization will be computed in the loss function\n",
    "        # instead of the model itself.\n",
    "        self.intent_classifier = nn.Linear(self.bert.config.hidden_size, intent_num_labels)\n",
    "\n",
    "    def forward(self, input_ids, attention_mask, token_type_ids=None):\n",
    "        outputs = self.bert(input_ids, attention_mask=attention_mask, token_type_ids=token_type_ids)\n",
    "        pooled_output = self.dropout(outputs.pooler_output)\n",
    "\n",
    "        intent_logits = self.intent_classifier(pooled_output)\n",
    "        return intent_logits"
   ]
  },
  {
   "cell_type": "code",
   "execution_count": 22,
   "metadata": {},
   "outputs": [
    {
     "name": "stderr",
     "output_type": "stream",
     "text": [
      "Some weights of the model checkpoint at bert-base-cased were not used when initializing BertModel: ['cls.seq_relationship.weight', 'cls.seq_relationship.bias', 'cls.predictions.decoder.weight', 'cls.predictions.transform.dense.weight', 'cls.predictions.transform.dense.bias', 'cls.predictions.bias', 'cls.predictions.transform.LayerNorm.bias', 'cls.predictions.transform.LayerNorm.weight']\n",
      "- This IS expected if you are initializing BertModel from the checkpoint of a model trained on another task or with another architecture (e.g. initializing a BertForSequenceClassification model from a BertForPreTraining model).\n",
      "- This IS NOT expected if you are initializing BertModel from the checkpoint of a model that you expect to be exactly identical (initializing a BertForSequenceClassification model from a BertForSequenceClassification model).\n"
     ]
    }
   ],
   "source": [
    "base_bert_model = AutoModel.from_pretrained(\"bert-base-cased\")"
   ]
  },
  {
   "cell_type": "code",
   "execution_count": 23,
   "metadata": {},
   "outputs": [
    {
     "name": "stderr",
     "output_type": "stream",
     "text": [
      "Some weights of the model checkpoint at bert-base-cased were not used when initializing BertModel: ['cls.seq_relationship.weight', 'cls.seq_relationship.bias', 'cls.predictions.decoder.weight', 'cls.predictions.transform.dense.weight', 'cls.predictions.transform.dense.bias', 'cls.predictions.bias', 'cls.predictions.transform.LayerNorm.bias', 'cls.predictions.transform.LayerNorm.weight']\n",
      "- This IS expected if you are initializing BertModel from the checkpoint of a model trained on another task or with another architecture (e.g. initializing a BertForSequenceClassification model from a BertForPreTraining model).\n",
      "- This IS NOT expected if you are initializing BertModel from the checkpoint of a model that you expect to be exactly identical (initializing a BertForSequenceClassification model from a BertForSequenceClassification model).\n"
     ]
    }
   ],
   "source": [
    "intent_model = IntentClassificationModel(intent_num_labels=len(intent_map))"
   ]
  },
  {
   "cell_type": "code",
   "execution_count": 24,
   "metadata": {},
   "outputs": [],
   "source": [
    "def perf(model, loader):\n",
    "    criterion = nn.CrossEntropyLoss()\n",
    "    model.eval()\n",
    "    total_loss = num = correct = 0\n",
    "    for x, mask, y in loader:\n",
    "      x = x.to(device)\n",
    "      y = y.to(device)\n",
    "      mask = mask.to(device)\n",
    "      with torch.no_grad():\n",
    "        y_scores = model(x, mask)\n",
    "        loss = criterion(y_scores, y)\n",
    "        y_pred = torch.max(y_scores, 1)[1]\n",
    "        correct += torch.sum(y_pred == y).item()\n",
    "        total_loss += loss.item()\n",
    "        num += len(y)\n",
    "    return total_loss / num, correct / num"
   ]
  },
  {
   "cell_type": "code",
   "execution_count": 25,
   "metadata": {},
   "outputs": [],
   "source": [
    "from torch.utils.data import TensorDataset, DataLoader\n",
    "train_encoded_dataset = TensorDataset(encoded_train[\"input_ids\"],\n",
    "                                      encoded_train[\"attention_mask\"], torch.from_numpy(intent_train))"
   ]
  },
  {
   "cell_type": "code",
   "execution_count": 26,
   "metadata": {},
   "outputs": [],
   "source": [
    "batch_size = 2\n",
    "maxlen = 20\n",
    "hidden_size = 128\n",
    "embed_size = 128\n",
    "device = torch.device('cuda')\n",
    "train_loader = DataLoader(train_encoded_dataset,batch_size=batch_size, shuffle=True)"
   ]
  },
  {
   "cell_type": "code",
   "execution_count": 27,
   "metadata": {},
   "outputs": [],
   "source": [
    "valid_encoded_dataset = TensorDataset(encoded_valid[\"input_ids\"], \n",
    "                                      encoded_valid[\"attention_mask\"],\n",
    "                                      torch.from_numpy(intent_valid))\n",
    "test_encoded_dataset = TensorDataset(encoded_test[\"input_ids\"], \n",
    "                                      encoded_test[\"attention_mask\"],\n",
    "                                      torch.from_numpy(intent_test))\n",
    "valid_loader = DataLoader(valid_encoded_dataset,batch_size=batch_size, shuffle=True)\n",
    "test_loader = DataLoader(test_encoded_dataset,batch_size=batch_size, shuffle=True)"
   ]
  },
  {
   "cell_type": "code",
   "execution_count": 28,
   "metadata": {},
   "outputs": [],
   "source": [
    "import torch.optim as optim\n",
    "\n",
    "def fit(model, epochs, lr=1e-3):\n",
    "    criterion = nn.CrossEntropyLoss()\n",
    "    optimizer = optim.Adam(model.parameters(), lr=lr)\n",
    "    for epoch in range(epochs):\n",
    "        model.train()\n",
    "        total_loss = num = 0\n",
    "        for x, mask, y in train_loader:\n",
    "            x = x.to(device)\n",
    "            y = y.to(device)\n",
    "            mask = mask.to(device)\n",
    "            optimizer.zero_grad()\n",
    "            y_scores = model(x, mask)\n",
    "            loss = criterion(y_scores, y)\n",
    "            loss.backward()\n",
    "            optimizer.step()\n",
    "            total_loss += loss.item()\n",
    "            num += len(y)\n",
    "        print(epoch, total_loss / num, *perf(model, valid_loader))"
   ]
  },
  {
   "cell_type": "code",
   "execution_count": 29,
   "metadata": {},
   "outputs": [],
   "source": [
    "intent_model= intent_model.to(device)"
   ]
  },
  {
   "cell_type": "code",
   "execution_count": 30,
   "metadata": {},
   "outputs": [],
   "source": [
    "torch.cuda.empty_cache()\n",
    "#fit(intent_model, 5, lr=2e-5)"
   ]
  },
  {
   "cell_type": "code",
   "execution_count": 31,
   "metadata": {},
   "outputs": [
    {
     "name": "stdout",
     "output_type": "stream",
     "text": [
      "BERT 1.0087824155603136 0.12857142857142856\n"
     ]
    }
   ],
   "source": [
    "print('BERT', *perf(intent_model, test_loader))"
   ]
  },
  {
   "cell_type": "code",
   "execution_count": 32,
   "metadata": {},
   "outputs": [],
   "source": [
    "def encode_token_labels(text_sequences, slot_names, tokenizer, slot_map,\n",
    "                        max_length):\n",
    "    encoded = np.zeros(shape=(len(text_sequences), max_length), dtype=np.int32)\n",
    "    for i, (text_sequence, word_labels) in enumerate(\n",
    "            zip(text_sequences, slot_names)):\n",
    "        encoded_labels = []\n",
    "        for word, word_label in zip(text_sequence.split(), word_labels.split()):\n",
    "            tokens = tokenizer.tokenize(word)\n",
    "            encoded_labels.append(slot_map[word_label])\n",
    "            expand_label = word_label.replace(\"B-\", \"I-\")\n",
    "            if not expand_label in slot_map:\n",
    "                expand_label = word_label\n",
    "            encoded_labels.extend([slot_map[expand_label]] * (len(tokens) - 1))\n",
    "        encoded[i, 1:len(encoded_labels) + 1] = encoded_labels\n",
    "    return encoded"
   ]
  },
  {
   "cell_type": "code",
   "execution_count": 33,
   "metadata": {},
   "outputs": [],
   "source": [
    "class RNNClassifier(nn.Module):\n",
    "  def __init__(self):\n",
    "    super().__init__()\n",
    "    self.embed = nn.Embedding(tokenizer.vocab_size, embed_size, padding_idx=tokenizer.pad_token_id)\n",
    "    self.rnn = nn.GRU(embed_size, hidden_size, num_layers=1, bidirectional=True, batch_first=True)\n",
    "    self.dropout = nn.Dropout(0.3)\n",
    "    self.decision = nn.Linear(1 * 2 * hidden_size, len(label_vocab))\n",
    "    self.to(device)\n",
    "  \n",
    "  def forward(self, x):\n",
    "    embed = self.embed(x)\n",
    "    output, hidden = self.rnn(embed) \n",
    "    drop = self.dropout(hidden.transpose(0, 1).reshape(x.shape[0], -1))\n",
    "    return self.decision(drop)\n",
    "\n",
    "#rnn_model = RNNClassifier()"
   ]
  },
  {
   "cell_type": "code",
   "execution_count": 34,
   "metadata": {},
   "outputs": [],
   "source": [
    "slot_names = [\"[PAD]\"]\n",
    "slot_names += Path(\"snips-data/vocab.slot\").read_text(\"utf-8\").strip().splitlines()\n",
    "slot_map = {}\n",
    "for label in slot_names:\n",
    "    slot_map[label] = len(slot_map)"
   ]
  },
  {
   "cell_type": "code",
   "execution_count": 35,
   "metadata": {},
   "outputs": [
    {
     "name": "stderr",
     "output_type": "stream",
     "text": [
      "Some weights of the model checkpoint at bert-base-cased were not used when initializing BertModel: ['cls.seq_relationship.weight', 'cls.seq_relationship.bias', 'cls.predictions.decoder.weight', 'cls.predictions.transform.dense.weight', 'cls.predictions.transform.dense.bias', 'cls.predictions.bias', 'cls.predictions.transform.LayerNorm.bias', 'cls.predictions.transform.LayerNorm.weight']\n",
      "- This IS expected if you are initializing BertModel from the checkpoint of a model trained on another task or with another architecture (e.g. initializing a BertForSequenceClassification model from a BertForPreTraining model).\n",
      "- This IS NOT expected if you are initializing BertModel from the checkpoint of a model that you expect to be exactly identical (initializing a BertForSequenceClassification model from a BertForSequenceClassification model).\n"
     ]
    }
   ],
   "source": [
    "import torch\n",
    "import torch.nn as nn\n",
    "from transformers import AutoModel\n",
    "\n",
    "class JointIntentAndSlotFillingModel(nn.Module):\n",
    "\n",
    "    def __init__(self, intent_num_labels=None, slot_num_labels=None,\n",
    "                 model_name=\"bert-base-cased\", dropout_prob=0.1):\n",
    "        super().__init__()\n",
    "        self.bert = AutoModel.from_pretrained(model_name)\n",
    "        self.dropout = nn.Dropout(dropout_prob)\n",
    "        self.intent_classifier = nn.Linear(self.bert.config.hidden_size, intent_num_labels)\n",
    "        self.slot_classifier = nn.Linear(self.bert.config.hidden_size, slot_num_labels)\n",
    "\n",
    "    def forward(self, input_ids, attention_mask=None, token_type_ids=None):\n",
    "        outputs = self.bert(input_ids, attention_mask=attention_mask, token_type_ids=token_type_ids)\n",
    "        sequence_output = outputs.last_hidden_state\n",
    "        pooled_output = outputs.pooler_output\n",
    "\n",
    "        sequence_output = self.dropout(sequence_output)\n",
    "        slot_logits = self.slot_classifier(sequence_output)\n",
    "\n",
    "        pooled_output = self.dropout(pooled_output)\n",
    "        intent_logits = self.intent_classifier(pooled_output)\n",
    "\n",
    "        return slot_logits, intent_logits\n",
    "\n",
    "\n",
    "joint_model = JointIntentAndSlotFillingModel(\n",
    "    intent_num_labels=len(intent_map), slot_num_labels=len(slot_map))"
   ]
  },
  {
   "cell_type": "code",
   "execution_count": 36,
   "metadata": {},
   "outputs": [],
   "source": [
    "def joint_fit(model, dataloader, epochs, lr=1e-3):\n",
    "    intent_criterion = nn.CrossEntropyLoss()\n",
    "    slot_criterion = nn.CrossEntropyLoss()\n",
    "    optimizer = optim.Adam(model.parameters(), lr=lr)\n",
    "    for epoch in range(epochs):\n",
    "        model.train()\n",
    "        total_loss = num = 0\n",
    "        for x, mask, y, slot in dataloader:\n",
    "            x = x.to(device)\n",
    "            y = y.to(device)\n",
    "            mask = mask.to(device)\n",
    "            slot = slot.long().to(device)\n",
    "            #print(\"Slot\", slot.shape)\n",
    "            #print(\"Y\", y.shape)\n",
    "            optimizer.zero_grad()\n",
    "            slot_scores, intent_scores = model(x, mask)\n",
    "            #print(\"slot scores\", slot_scores.shape)\n",
    "            slot_loss = slot_criterion(slot_scores.view(-1, len(slot_map)),\n",
    "                                        slot.view(-1))\n",
    "            intent_loss = intent_criterion(intent_scores, y)\n",
    "            loss = slot_loss + intent_loss\n",
    "            loss.backward()\n",
    "            optimizer.step()\n",
    "            total_loss += loss.item()\n",
    "            num += len(y)\n",
    "        print(epoch, total_loss / num, *joint_perf(model, slot_valid_loader))"
   ]
  },
  {
   "cell_type": "code",
   "execution_count": 37,
   "metadata": {},
   "outputs": [],
   "source": [
    "def joint_perf(model, loader):\n",
    "    slot_criterion = nn.CrossEntropyLoss()\n",
    "    intent_criterion = nn.CrossEntropyLoss()\n",
    "    model.eval()\n",
    "    total_loss = num = correct_intent = correct_slot = 0\n",
    "    for x, mask, y, slot in loader:\n",
    "      x = x.to(device)\n",
    "      y = y.to(device)\n",
    "      mask = mask.to(device)\n",
    "      slot = slot.to(device)\n",
    "      with torch.no_grad():\n",
    "        slot_scores, intent_scores = model(x, mask)\n",
    "        slot_loss = slot_criterion(slot_scores.view(-1, len(slot_map)),\n",
    "                                    slot.view(-1).long())\n",
    "        intent_loss = intent_criterion(intent_scores, y)\n",
    "        intent_pred = torch.max(intent_scores, 1)[1]\n",
    "        slot_pred = torch.argmax(slot_scores, dim=2)\n",
    "        correct_slot += torch.sum(slot_pred.view(batch_size, 45) == slot).item()\n",
    "        correct_intent += torch.sum(intent_pred == y).item()\n",
    "        total_loss += slot_loss.item() + intent_loss.item()\n",
    "        num += len(y)\n",
    "    return total_loss / num, correct_intent / num, correct_slot/num"
   ]
  },
  {
   "cell_type": "code",
   "execution_count": 38,
   "metadata": {},
   "outputs": [],
   "source": [
    "def joint_perf(model, loader):\n",
    "    slot_criterion = nn.CrossEntropyLoss()\n",
    "    intent_criterion = nn.CrossEntropyLoss()\n",
    "    model.eval()\n",
    "    total_loss = num = correct_intent = correct_slot = num_slot = 0\n",
    "    for x, mask, y, slot in loader:\n",
    "        x = x.to(device)\n",
    "        y = y.to(device)\n",
    "        mask = mask.to(device)\n",
    "        slot = slot.to(device)\n",
    "        batch_size, sequence_length = x.size()\n",
    "        with torch.no_grad():\n",
    "            slot_scores, intent_scores = model(x, mask)\n",
    "            slot_loss = slot_criterion(\n",
    "                slot_scores.view(-1, len(slot_map)),\n",
    "                slot.view(-1).long()\n",
    "            )\n",
    "            intent_loss = intent_criterion(intent_scores, y)\n",
    "            intent_pred = torch.max(intent_scores, 1)[1]\n",
    "            #print(intent_pred.shape, y.shape)\n",
    "            slot_pred = torch.argmax(slot_scores, dim=2)\n",
    "            correct_slot += torch.sum(slot_pred == slot).item()\n",
    "            correct_intent += torch.sum(intent_pred == y).item()\n",
    "            total_loss += slot_loss.item() + intent_loss.item()\n",
    "            num += len(y)\n",
    "            num_slot += len(slot)\n",
    "    return total_loss / num, correct_intent/ num, correct_slot/(45*num)"
   ]
  },
  {
   "cell_type": "code",
   "execution_count": 39,
   "metadata": {},
   "outputs": [],
   "source": [
    "slot_train = encode_token_labels(\n",
    "    df_train[\"words\"], df_train[\"word_labels\"], tokenizer, slot_map, 45)\n",
    "slot_valid = encode_token_labels(\n",
    "    df_valid[\"words\"], df_valid[\"word_labels\"], tokenizer, slot_map, 45)\n",
    "slot_test = encode_token_labels(\n",
    "    df_test[\"words\"], df_test[\"word_labels\"], tokenizer, slot_map, 45)"
   ]
  },
  {
   "cell_type": "code",
   "execution_count": 40,
   "metadata": {},
   "outputs": [],
   "source": [
    "slot_train_dataset = TensorDataset(encoded_train[\"input_ids\"],\n",
    "                                      encoded_train[\"attention_mask\"], torch.from_numpy(intent_train),\n",
    "                                      torch.from_numpy(slot_train))\n",
    "slot_valid_dataset = TensorDataset(encoded_valid[\"input_ids\"],\n",
    "                                      encoded_valid[\"attention_mask\"], torch.from_numpy(intent_valid),\n",
    "                                      torch.from_numpy(slot_valid))\n",
    "slot_test_dataset = TensorDataset(encoded_test[\"input_ids\"],\n",
    "                                      encoded_test[\"attention_mask\"], torch.from_numpy(intent_test),\n",
    "                                      torch.from_numpy(slot_test))"
   ]
  },
  {
   "cell_type": "code",
   "execution_count": 41,
   "metadata": {},
   "outputs": [],
   "source": [
    "slot_train_loader = DataLoader(slot_train_dataset,batch_size=batch_size, shuffle=True)\n",
    "slot_valid_loader = DataLoader(slot_valid_dataset,batch_size=batch_size, shuffle=True)\n",
    "slot_test_loader = DataLoader(slot_test_dataset,batch_size=batch_size, shuffle=True)"
   ]
  },
  {
   "cell_type": "code",
   "execution_count": 42,
   "metadata": {},
   "outputs": [],
   "source": [
    "x = next(iter(slot_train_loader))"
   ]
  },
  {
   "cell_type": "code",
   "execution_count": 43,
   "metadata": {},
   "outputs": [
    {
     "data": {
      "text/plain": [
       "torch.Size([2, 45])"
      ]
     },
     "execution_count": 43,
     "metadata": {},
     "output_type": "execute_result"
    }
   ],
   "source": [
    "x[3].shape"
   ]
  },
  {
   "cell_type": "code",
   "execution_count": 44,
   "metadata": {},
   "outputs": [],
   "source": [
    "with torch.no_grad():\n",
    "  x_inputs = x[0].to(device)\n",
    "  mask = x[1].to(device)\n",
    "  sl, intt = joint_model.to(device)(x_inputs, mask)"
   ]
  },
  {
   "cell_type": "code",
   "execution_count": 45,
   "metadata": {},
   "outputs": [
    {
     "name": "stdout",
     "output_type": "stream",
     "text": [
      "torch.Size([90]) torch.Size([90, 73])\n"
     ]
    }
   ],
   "source": [
    "sl = sl.view(-1, 73)\n",
    "sl_t = x[3].view(-1).long().to(device)\n",
    "print(sl_t.shape, sl.shape)\n",
    "output = nn.CrossEntropyLoss()(sl, sl_t)"
   ]
  },
  {
   "cell_type": "code",
   "execution_count": 42,
   "metadata": {},
   "outputs": [
    {
     "name": "stdout",
     "output_type": "stream",
     "text": [
      "0 0.8888456590260778 0.4064024568349123 0.9285714285714286 0.8860634920634921\n",
      "1 0.22157918767205306 0.24991630019220923 0.9328571428571428 0.9351746031746032\n",
      "2 0.1095257426957999 0.1733253741936226 0.9528571428571428 0.9697142857142858\n"
     ]
    }
   ],
   "source": [
    "torch.cuda.empty_cache()\n",
    "device = \"cuda\"\n",
    "joint_fit(model=joint_model.to(device),\n",
    "          dataloader=slot_train_loader,lr=2e-5, epochs=5)"
   ]
  },
  {
   "cell_type": "code",
   "execution_count": null,
   "metadata": {},
   "outputs": [],
   "source": []
  }
 ],
 "metadata": {
  "kernelspec": {
   "display_name": "whissp-data-tool",
   "language": "python",
   "name": "python3"
  },
  "language_info": {
   "codemirror_mode": {
    "name": "ipython",
    "version": 3
   },
   "file_extension": ".py",
   "mimetype": "text/x-python",
   "name": "python",
   "nbconvert_exporter": "python",
   "pygments_lexer": "ipython3",
   "version": "3.9.16"
  },
  "orig_nbformat": 4
 },
 "nbformat": 4,
 "nbformat_minor": 2
}
